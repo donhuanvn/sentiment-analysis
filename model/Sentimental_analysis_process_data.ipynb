{
  "nbformat": 4,
  "nbformat_minor": 0,
  "metadata": {
    "colab": {
      "name": "Sentimental_analysis_process_data.ipynb",
      "provenance": [],
      "collapsed_sections": []
    },
    "kernelspec": {
      "name": "python3",
      "display_name": "Python 3"
    },
    "language_info": {
      "name": "python"
    }
  },
  "cells": [
    {
      "cell_type": "code",
      "execution_count": 1,
      "metadata": {
        "colab": {
          "base_uri": "https://localhost:8080/"
        },
        "id": "_RF4dr8CXNAL",
        "outputId": "d5425d6d-0a9b-4101-c422-e96e10e478ac"
      },
      "outputs": [
        {
          "output_type": "stream",
          "name": "stdout",
          "text": [
            "Collecting vaderSentiment\n",
            "  Downloading vaderSentiment-3.3.2-py2.py3-none-any.whl (125 kB)\n",
            "\u001b[?25l\r\u001b[K     |██▋                             | 10 kB 20.8 MB/s eta 0:00:01\r\u001b[K     |█████▏                          | 20 kB 24.6 MB/s eta 0:00:01\r\u001b[K     |███████▉                        | 30 kB 23.9 MB/s eta 0:00:01\r\u001b[K     |██████████▍                     | 40 kB 10.9 MB/s eta 0:00:01\r\u001b[K     |█████████████                   | 51 kB 5.7 MB/s eta 0:00:01\r\u001b[K     |███████████████▋                | 61 kB 6.7 MB/s eta 0:00:01\r\u001b[K     |██████████████████▏             | 71 kB 7.6 MB/s eta 0:00:01\r\u001b[K     |████████████████████▉           | 81 kB 7.0 MB/s eta 0:00:01\r\u001b[K     |███████████████████████▍        | 92 kB 7.8 MB/s eta 0:00:01\r\u001b[K     |██████████████████████████      | 102 kB 7.6 MB/s eta 0:00:01\r\u001b[K     |████████████████████████████▋   | 112 kB 7.6 MB/s eta 0:00:01\r\u001b[K     |███████████████████████████████▏| 122 kB 7.6 MB/s eta 0:00:01\r\u001b[K     |████████████████████████████████| 125 kB 7.6 MB/s \n",
            "\u001b[?25hRequirement already satisfied: requests in /usr/local/lib/python3.7/dist-packages (from vaderSentiment) (2.23.0)\n",
            "Requirement already satisfied: certifi>=2017.4.17 in /usr/local/lib/python3.7/dist-packages (from requests->vaderSentiment) (2021.10.8)\n",
            "Requirement already satisfied: chardet<4,>=3.0.2 in /usr/local/lib/python3.7/dist-packages (from requests->vaderSentiment) (3.0.4)\n",
            "Requirement already satisfied: urllib3!=1.25.0,!=1.25.1,<1.26,>=1.21.1 in /usr/local/lib/python3.7/dist-packages (from requests->vaderSentiment) (1.24.3)\n",
            "Requirement already satisfied: idna<3,>=2.5 in /usr/local/lib/python3.7/dist-packages (from requests->vaderSentiment) (2.10)\n",
            "Installing collected packages: vaderSentiment\n",
            "Successfully installed vaderSentiment-3.3.2\n"
          ]
        }
      ],
      "source": [
        "!pip install vaderSentiment"
      ]
    },
    {
      "cell_type": "code",
      "source": [
        "import socket\n",
        "import sys\n",
        "import requests\n",
        "import requests_oauthlib\n",
        "import json\n",
        "from vaderSentiment.vaderSentiment import SentimentIntensityAnalyzer"
      ],
      "metadata": {
        "id": "hkC36Dg4XV52"
      },
      "execution_count": 2,
      "outputs": []
    },
    {
      "cell_type": "code",
      "source": [
        "# Replace the values below with yours\n",
        "ACCESS_TOKEN = ''\n",
        "ACCESS_SECRET = ''\n",
        "CONSUMER_KEY = ''\n",
        "CONSUMER_SECRET = ''\n",
        "BEARER_TOKEN = ''\n"
      ],
      "metadata": {
        "id": "6vWoQJ08XaPh"
      },
      "execution_count": 8,
      "outputs": []
    },
    {
      "cell_type": "code",
      "source": [
        "headers = {\"Authorization\": \"Bearer {}\".format(BEARER_TOKEN), \"content-type\": \"application/json\"}"
      ],
      "metadata": {
        "id": "ZNDPIvbzgF85"
      },
      "execution_count": 20,
      "outputs": []
    },
    {
      "cell_type": "code",
      "source": [
        "def get_tweets():\n",
        "    url = 'https://api.twitter.com/2/tweets/1228393702244134912'\n",
        "    query_data = [('tweet.fields', 'created_at,attachments'), ('expansions', 'author_id')]\n",
        "    query_url = url + '?' + '&'.join([str(t[0]) + '=' + str(t[1]) for t in query_data])\n",
        "    response = requests.get(query_url, headers=headers, stream=True)\n",
        "    print(query_url, response)\n",
        "    \n",
        "    return response"
      ],
      "metadata": {
        "id": "_RZQkjqvYDhb"
      },
      "execution_count": 122,
      "outputs": []
    },
    {
      "cell_type": "code",
      "source": [
        "get_tweets()"
      ],
      "metadata": {
        "colab": {
          "base_uri": "https://localhost:8080/"
        },
        "id": "V2iIUuOH6j4j",
        "outputId": "f500eeae-9e12-4091-fb43-2cdd07eaf255"
      },
      "execution_count": 123,
      "outputs": [
        {
          "output_type": "stream",
          "name": "stdout",
          "text": [
            "https://api.twitter.com/2/tweets/1228393702244134912?tweet.fields=created_at,attachments&expansions=author_id <Response [200]>\n"
          ]
        },
        {
          "output_type": "execute_result",
          "data": {
            "text/plain": [
              "<Response [200]>"
            ]
          },
          "metadata": {},
          "execution_count": 123
        }
      ]
    },
    {
      "cell_type": "code",
      "source": [
        "def get_tweets_by_user(user):\n",
        "    url = 'https://api.twitter.com/2/tweets/search/recent'\n",
        "    query_data = [('query', 'from:'+user), ('max_results', '10')]\n",
        "    query_url = url + '?' + '&'.join([str(t[0]) + '=' + str(t[1]) for t in query_data])\n",
        "    response = requests.get(query_url, headers=headers, stream=True)\n",
        "    #print(query_url, response)\n",
        "    \n",
        "    return response"
      ],
      "metadata": {
        "id": "53MZOuXOukkn"
      },
      "execution_count": 93,
      "outputs": []
    },
    {
      "cell_type": "code",
      "source": [
        "def get_tweet_comments(id='1526022409383460866'):\n",
        "    url = 'https://api.twitter.com/2/tweets/search/recent'\n",
        "    #url = 'https://api.twitter.com/2/tweets/search/all'\n",
        "    query_data = [('query', 'conversation_id:'+id), ('max_results', '100'), ('tweet.fields', 'conversation_id,in_reply_to_user_id,created_at')]\n",
        "    query_url = url + '?' + '&'.join([str(t[0]) + '=' + str(t[1]) for t in query_data])\n",
        "    response = requests.get(query_url, headers=headers, stream=True)\n",
        "    #print(query_url, response)\n",
        "    \n",
        "    return response"
      ],
      "metadata": {
        "id": "Kp8TAYtOmV8t"
      },
      "execution_count": 110,
      "outputs": []
    },
    {
      "cell_type": "code",
      "source": [
        "analyzer = SentimentIntensityAnalyzer()\n",
        "\n",
        "def process_tweets_comments(http_resp):\n",
        "    data = http_resp.json()\n",
        "    negative = 0\n",
        "    neutral = 0\n",
        "    positive = 0\n",
        "    if 'data' in data:\n",
        "      for comment in data['data']:\n",
        "          tweet_text = str(comment['text'].encode(\"utf-8\"))\n",
        "\n",
        "          # analysis sentiment score\n",
        "          sentiment_score = analyzer.polarity_scores(tweet_text)[\"compound\"]\n",
        "          if sentiment_score >= 0.05:\n",
        "              sentiment = \"POSITIVE\"\n",
        "              positive += 1\n",
        "          elif sentiment_score <= -0.05:\n",
        "              sentiment = \"NEGATIVE\"\n",
        "              negative += 1\n",
        "          else:\n",
        "              sentiment = \"NEUTRAL\"\n",
        "              neutral += 1\n",
        "\n",
        "          # separate sentiment label with tweet content\n",
        "          mess =  sentiment + '||||' + tweet_text + '\\n'\n",
        "          #print(mess)\n",
        "          #tcp_connection.send(bytes(mess, 'utf-8'))\n",
        "    return (positive,neutral,negative)"
      ],
      "metadata": {
        "id": "wp7xi7JFaJZv"
      },
      "execution_count": 95,
      "outputs": []
    },
    {
      "cell_type": "code",
      "source": [
        "def analyze_sentimental_recent_post_of_user(username):\n",
        "    print('Analyzing for user %s ...' %(username))\n",
        "    resp_tw = get_tweets_by_user(username)\n",
        "    data = resp_tw.json()\n",
        "    #print(data)\n",
        "    if 'data' in data:\n",
        "        for tweet in data['data']:\n",
        "            #print(tweet['id'])\n",
        "            resp= get_tweet_comments(tweet['id'])\n",
        "            #print(resp)\n",
        "            positive,neutral,negative = process_tweets_comments(resp)\n",
        "            print('TWEET: %s \\nPOS: %d, NEU: %d, NEG: %d'%(tweet['text'],positive,neutral,negative))"
      ],
      "metadata": {
        "id": "_mJ2UrI-vbuM"
      },
      "execution_count": 134,
      "outputs": []
    },
    {
      "cell_type": "code",
      "source": [
        "resp= get_tweet_comments('1526022409383460866')\n",
        "data = resp.json()\n",
        "print(data)\n",
        "#comments = data['data']\n",
        "#positive,neutral,negative = process_tweets_comments(resp)"
      ],
      "metadata": {
        "colab": {
          "base_uri": "https://localhost:8080/"
        },
        "id": "pPpRGEngrQuC",
        "outputId": "2eb19328-6022-449a-8fc3-333acaea78c1"
      },
      "execution_count": 109,
      "outputs": [
        {
          "output_type": "stream",
          "name": "stdout",
          "text": [
            "{'client_id': '24280907', 'detail': 'When authenticating requests to the Twitter API v2 endpoints, you must use keys and tokens from a Twitter developer App that is attached to a Project. You can create a project via the developer portal.', 'registration_url': 'https://developer.twitter.com/en/docs/projects/overview', 'title': 'Client Forbidden', 'required_enrollment': 'Standard Basic', 'reason': 'client-not-enrolled', 'type': 'https://api.twitter.com/2/problems/client-forbidden'}\n"
          ]
        }
      ]
    },
    {
      "cell_type": "code",
      "source": [
        "analyze_sentimental_recent_post_of_user('POTUS')"
      ],
      "metadata": {
        "colab": {
          "base_uri": "https://localhost:8080/"
        },
        "id": "M8asX08LtN_R",
        "outputId": "ae8bf881-731e-46b4-d92d-2b60b42bcf53"
      },
      "execution_count": 135,
      "outputs": [
        {
          "output_type": "stream",
          "name": "stdout",
          "text": [
            "Analyzing for user POTUS ...\n",
            "TWEET: Tune in as I award the Public Safety Officer Medals of Valor for “extraordinary valor above and beyond the call of duty.” https://t.co/tCcfVXqqYJ \n",
            "POS: 17, NEU: 54, NEG: 29\n",
            "TWEET: There is a quote engraved on the National Law Enforcement Memorial, “It is not how these officers died that made them heroes – it is how they lived.”\n",
            " \n",
            "To the families, I know it’s hard. May the souls of those you love and with whom you served rest in peace and rise in glory. https://t.co/Lr4w737IwW \n",
            "POS: 12, NEU: 47, NEG: 41\n",
            "TWEET: Jill and I will travel to Buffalo on Tuesday to grieve with the community that lost ten lives in a senseless and horrific mass shooting. \n",
            "POS: 19, NEU: 37, NEG: 44\n",
            "TWEET: Jill and I pray for the victims, their families and devastated community from yesterday’s mass shooting in Buffalo, New York. Our hearts are heavy once again but our resolve must not waver; we must work together to address the hate that remains a stain on the soul of this nation. \n",
            "POS: 29, NEU: 29, NEG: 42\n",
            "TWEET: Tune in as Jill and I attend the National Peace Officers’ Memorial Service to honor the law enforcement officers who lost their lives in the line of duty in 2021. https://t.co/5YYytJFLKK \n",
            "POS: 24, NEU: 43, NEG: 33\n",
            "TWEET: Under my predecessor, the deficit increased every single year.\n",
            " \n",
            "This year, we’re on track to cut the deficit by $1.5 trillion – the biggest one-year decline ever.\n",
            " \n",
            "It matters to families, because reducing the deficit is one of the main ways we can ease inflationary pressures. \n",
            "POS: 13, NEU: 33, NEG: 54\n",
            "TWEET: During Jewish American Heritage Month, we honor centuries of Jewish Americans who—shaped by their own encounters with prejudice, persecution, and the promise of a better tomorrow—have emboldened our nation to stand up for justice, equality, and freedom. https://t.co/aEX8rGB6a7 \n",
            "POS: 26, NEU: 41, NEG: 33\n",
            "TWEET: This afternoon, I met with a group of local elected officials and police chiefs to discuss what they’re doing to keep communities safe. Through the American Rescue Plan, we’re ensuring communities have more resources than ever before to reduce violence and ensure safety. https://t.co/70l4ZtVflm \n",
            "POS: 24, NEU: 42, NEG: 34\n",
            "TWEET: Because of the American Rescue Plan funding, states and cities added back 460,000 jobs — including police officers, firefighters, educators, and other important roles.\n",
            "\n",
            "Not a single Republican member of Congress voted for the funding for law enforcement and public safety. \n",
            "POS: 0, NEU: 0, NEG: 0\n",
            "TWEET: Through the American Rescue Plan, we provided $350 billion directly to cities, counties, and states. Money they could use to hire back police officers and to invest in proven strategies like community violence interruption and prevention programs. \n",
            "POS: 0, NEU: 0, NEG: 0\n"
          ]
        }
      ]
    }
  ]
}